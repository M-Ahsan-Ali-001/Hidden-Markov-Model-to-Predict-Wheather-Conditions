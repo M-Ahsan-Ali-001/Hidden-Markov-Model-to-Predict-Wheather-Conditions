{
 "cells": [
  {
   "cell_type": "code",
   "execution_count": 11,
   "id": "071e5b32",
   "metadata": {},
   "outputs": [],
   "source": [
    "import tensorflow_probability as tfp\n",
    "\n",
    "import tensorflow as tf"
   ]
  },
  {
   "cell_type": "code",
   "execution_count": 16,
   "id": "5b681649",
   "metadata": {},
   "outputs": [],
   "source": [
    "tfd=tfp.distributions\n",
    "initial_distribution=tfd.Categorical(probs=[0.2,0.6])\n",
    "transition_distribution=tfd.Categorical([[0.5,0.5],[0.2,0.8]])\n",
    "observation_distribution=tfd.Normal(loc=[0.,15.],scale=[5.,10.])"
   ]
  },
  {
   "cell_type": "code",
   "execution_count": 17,
   "id": "504eef46",
   "metadata": {},
   "outputs": [],
   "source": [
    "model=tfd.HiddenMarkovModel(\n",
    "initial_distribution=initial_distribution,\n",
    "transition_distribution=transition_distribution, \n",
    "    observation_distribution=observation_distribution,\n",
    "    num_steps=7\n",
    ")"
   ]
  },
  {
   "cell_type": "code",
   "execution_count": 18,
   "id": "96c56fad",
   "metadata": {},
   "outputs": [],
   "source": [
    "mean=model.mean()"
   ]
  },
  {
   "cell_type": "code",
   "execution_count": 19,
   "id": "15950f20",
   "metadata": {},
   "outputs": [
    {
     "name": "stdout",
     "output_type": "stream",
     "text": [
      "[11.25       9.138634   8.8310995  8.786305   8.779781   8.77883\n",
      "  8.778692 ]\n"
     ]
    }
   ],
   "source": [
    "with tf.compat.v1.Session() as sess:\n",
    "    print(mean.numpy())"
   ]
  },
  {
   "cell_type": "code",
   "execution_count": null,
   "id": "feae651e",
   "metadata": {},
   "outputs": [],
   "source": []
  }
 ],
 "metadata": {
  "kernelspec": {
   "display_name": "Python 3 (ipykernel)",
   "language": "python",
   "name": "python3"
  },
  "language_info": {
   "codemirror_mode": {
    "name": "ipython",
    "version": 3
   },
   "file_extension": ".py",
   "mimetype": "text/x-python",
   "name": "python",
   "nbconvert_exporter": "python",
   "pygments_lexer": "ipython3",
   "version": "3.9.12"
  }
 },
 "nbformat": 4,
 "nbformat_minor": 5
}
